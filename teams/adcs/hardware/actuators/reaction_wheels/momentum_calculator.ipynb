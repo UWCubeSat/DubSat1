{
 "cells": [
  {
   "cell_type": "markdown",
   "metadata": {},
   "source": [
    "# Optimization of Flywheel Parameters"
   ]
  },
  {
   "cell_type": "code",
   "execution_count": 1,
   "metadata": {
    "collapsed": true
   },
   "outputs": [],
   "source": [
    "import warnings\n",
    "warnings.simplefilter('ignore')\n",
    "\n",
    "# declare units\n",
    "m = units.length.meter\n",
    "cm = units.length.centimeter\n",
    "mm = units.length.millimeter\n",
    "kg = units.mass.kilogram\n",
    "g = units.mass.gram\n",
    "s = units.time.second\n",
    "Hz = units.frequency.hertz\n",
    "\n",
    "# Some physical constants of our setup:\n",
    "motor = {\n",
    "    'max_rpm': 12000 * Hz,\n",
    "    'reverse': True,\n",
    "    'rotor_inertia': 0.69 * g * cm^2,\n",
    "    'shaft_radius': 1.5 * mm,\n",
    "    'mass': 6.9 * g\n",
    "}\n",
    "\n",
    "wheel = {\n",
    "    'density': 7.45 * g / cm^3,\n",
    "    'r_f': 0 * mm,\n",
    "    'R_i': motor['shaft_radius'],\n",
    "    'R_s': 0 * mm,\n",
    "    'R_im': 10.5 * mm,\n",
    "    'R_om': 12.5 * mm,\n",
    "    'H_d': 2 * mm,\n",
    "    'H_m': 10 * mm,\n",
    "    'H_s': 0 * mm,\n",
    "    'max_mass': 15 * g\n",
    "}\n",
    "\n",
    "%display latex\n",
    "\n",
    "# declare variables\n",
    "r_f, R_i, R_s, R_im, R_om, H_d, H_m, H_s, rho = var( 'r_f R_i R_s R_im R_om H_d H_m H_s rho' )\n",
    "# some assumptions to make it easier for the symbolic optimizer\n",
    "assume( R_i > 0 )\n",
    "assume( R_s > R_i )\n",
    "assume( R_im > R_s )\n",
    "assume( R_om > R_im )\n",
    "assume( r_f > 0 )\n",
    "assume( H_d > 0 )\n",
    "assume( H_d < H_s )\n",
    "assume( H_d < H_m )\n",
    "assume( R_im - r_f > 0 )"
   ]
  },
  {
   "cell_type": "markdown",
   "metadata": {},
   "source": [
    "## Mass Formula:"
   ]
  },
  {
   "cell_type": "code",
   "execution_count": 2,
   "metadata": {
    "collapsed": true
   },
   "outputs": [],
   "source": [
    "# these are just the masses of the cylindrical components\n",
    "sheath_mass = rho * pi * H_s * ( R_s^2 - R_i^2 )\n",
    "disc_mass = rho * pi * H_d * ( R_im^2 - R_s^2 )\n",
    "mass_mass = rho * pi * H_m * ( R_om^2 - R_im^2 )\n",
    "cylindrical_masses = sheath_mass + disc_mass + mass_mass\n",
    "# circular fillets\n",
    "fillet_inner = (r_f - sqrt(r_f^2 - (x-(R_s+r_f))^2))\n",
    "fillet_outer = (r_f - sqrt(r_f^2 - (x-(R_im-r_f))^2))\n",
    "# masses of the fillets as a revolved integral\n",
    "fillet_inner_mass = 2*pi*rho*integral( fillet_inner*x, (x, R_s, R_s+r_f) )\n",
    "fillet_outer_mass = 2*pi*rho*integral( fillet_outer*x, (x, R_im-r_f, R_im) )\n",
    "# grand unified mass equation:\n",
    "total_mass = (\n",
    "    cylindrical_masses +\n",
    "    fillet_inner_mass +\n",
    "    fillet_outer_mass + \n",
    "    motor['mass'] ).full_simplify()"
   ]
  },
  {
   "cell_type": "markdown",
   "metadata": {},
   "source": [
    "## Inertia Formula:"
   ]
  },
  {
   "cell_type": "code",
   "execution_count": 3,
   "metadata": {
    "collapsed": true
   },
   "outputs": [],
   "source": [
    "# another shortcut for moments of inertia on the cylindrical component s:\n",
    "sheath_inertia = sheath_mass / 2 * (R_i^2 + R_s^2)\n",
    "disc_inertia = disc_mass / 2 * (R_s^2 + R_im^2)\n",
    "mass_inertia = mass_mass / 2 * (R_im^2 + R_om^2)\n",
    "# total moment of inertia for all 3 cylindrical components\n",
    "cylindrical_inertias = sheath_inertia + disc_inertia + mass_inertia\n",
    "# moments of inertia for the fillets\n",
    "fillet_inner_inertia = 2*pi*rho*integral( fillet_inner*x^2, (x, R_s, R_s+r_f) )\n",
    "fillet_outer_inertia = 2*pi*rho*integral( fillet_outer*x^2, (x, R_im-r_f, R_im) )\n",
    "# grand unified inertia equation:\n",
    "total_inertia = (\n",
    "    cylindrical_inertias +\n",
    "    fillet_inner_inertia +\n",
    "    fillet_outer_inertia +\n",
    "    motor['rotor_inertia'] ).full_simplify()"
   ]
  },
  {
   "cell_type": "markdown",
   "metadata": {},
   "source": [
    "## Wheel mass for given parameters:"
   ]
  },
  {
   "cell_type": "code",
   "execution_count": 4,
   "metadata": {},
   "outputs": [
    {
     "data": {
      "text/html": [
       "<html><script type=\"math/tex; mode=display\">\\newcommand{\\Bold}[1]{\\mathbf{#1}}22.827011 \\, \\mathit{gram}</script></html>"
      ],
      "text/plain": [
       "22.827011*gram"
      ]
     },
     "execution_count": 4,
     "metadata": {},
     "output_type": "execute_result"
    }
   ],
   "source": [
    "(total_mass(\n",
    "    R_i=wheel['R_i'],\n",
    "    R_s=wheel['R_s'],\n",
    "    R_im=wheel['R_im'],\n",
    "    R_om=wheel['R_om'],\n",
    "    r_f=wheel['r_f'],\n",
    "    H_d=wheel['H_d'],\n",
    "    H_s=wheel['H_s'],\n",
    "    H_m=wheel['H_m'],\n",
    "    rho=wheel['density'] ).convert( g ) / g).n(30) * g"
   ]
  },
  {
   "cell_type": "markdown",
   "metadata": {
    "collapsed": true
   },
   "source": [
    "## Wheel inertia for given parameters:"
   ]
  },
  {
   "cell_type": "code",
   "execution_count": 7,
   "metadata": {},
   "outputs": [
    {
     "data": {
      "text/html": [
       "<html><script type=\"math/tex; mode=display\">\\newcommand{\\Bold}[1]{\\mathbf{#1}}1788.0888 \\, \\mathit{gram} \\mathit{millimeter}^{2}</script></html>"
      ],
      "text/plain": [
       "1788.0888*gram*millimeter^2"
      ]
     },
     "execution_count": 7,
     "metadata": {},
     "output_type": "execute_result"
    }
   ],
   "source": [
    "inertia = ( total_inertia(\n",
    "    R_i=wheel['R_i'],\n",
    "    R_s=wheel['R_s'],\n",
    "    R_im=wheel['R_im'],\n",
    "    R_om=wheel['R_om'],\n",
    "    r_f=wheel['r_f'],\n",
    "    H_d=wheel['H_d'],\n",
    "    H_s=wheel['H_s'],\n",
    "    H_m=wheel['H_m'],\n",
    "    rho=wheel['density'] ).convert( g * mm^2 ) / ( g * mm^2 ) ).n( 30 ) * g * mm^2\n",
    "\n",
    "inertia"
   ]
  },
  {
   "cell_type": "markdown",
   "metadata": {},
   "source": [
    "## Total stored momentum per wheel:"
   ]
  },
  {
   "cell_type": "code",
   "execution_count": 6,
   "metadata": {},
   "outputs": [
    {
     "data": {
      "text/html": [
       "<html><script type=\"math/tex; mode=display\">\\newcommand{\\Bold}[1]{\\mathbf{#1}}42.914132 \\, \\left(\\frac{\\mathit{gram} \\mathit{meter}^{2}}{\\mathit{second}}\\right)</script></html>"
      ],
      "text/plain": [
       "42.914132*(gram*meter^2/second)"
      ]
     },
     "execution_count": 6,
     "metadata": {},
     "output_type": "execute_result"
    }
   ],
   "source": [
    "( inertia * motor['max_rpm'] * ( 2 if motor['reverse'] else 1 ) ).convert( g * m^2 / s )"
   ]
  }
 ],
 "metadata": {
  "kernelspec": {
   "display_name": "SageMath 8.0",
   "language": "",
   "name": "sagemath"
  },
  "language_info": {
   "codemirror_mode": {
    "name": "ipython",
    "version": 2
   },
   "file_extension": ".py",
   "mimetype": "text/x-python",
   "name": "python",
   "nbconvert_exporter": "python",
   "pygments_lexer": "ipython2",
   "version": "2.7.13"
  }
 },
 "nbformat": 4,
 "nbformat_minor": 2
}
